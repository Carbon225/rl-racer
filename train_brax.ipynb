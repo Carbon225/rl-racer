{
 "cells": [
  {
   "cell_type": "code",
   "execution_count": null,
   "metadata": {},
   "outputs": [],
   "source": [
    "from IPython.display import clear_output, HTML\n",
    "import functools\n",
    "import matplotlib.pyplot as plt\n",
    "from tqdm import tqdm\n",
    "\n",
    "import jax\n",
    "import jax.numpy as jnp\n",
    "\n",
    "import brax.training.agents.ppo.train as ppo\n",
    "import brax.training.agents.es.train as es\n",
    "from brax.io import model\n",
    "from brax.io import html\n",
    "\n",
    "from rl_racer.envs.v1.hover import HoverV1"
   ]
  },
  {
   "cell_type": "code",
   "execution_count": null,
   "metadata": {},
   "outputs": [],
   "source": [
    "EPISODE_LENGTH = 200"
   ]
  },
  {
   "cell_type": "code",
   "execution_count": null,
   "metadata": {},
   "outputs": [],
   "source": [
    "train_ppo = functools.partial(\n",
    "    ppo.train,\n",
    "    num_timesteps=1_000_000,\n",
    "    num_evals=10,\n",
    "    reward_scaling=1,\n",
    "    episode_length=EPISODE_LENGTH,\n",
    "    normalize_observations=True,\n",
    "    action_repeat=1,\n",
    "    unroll_length=5,\n",
    "    num_minibatches=32,\n",
    "    num_updates_per_batch=4,\n",
    "    discounting=0.97,\n",
    "    learning_rate=3e-4,\n",
    "    entropy_cost=1e-2,\n",
    "    num_envs=4096,\n",
    "    batch_size=2048,\n",
    "    seed=42,\n",
    ")"
   ]
  },
  {
   "cell_type": "code",
   "execution_count": null,
   "metadata": {},
   "outputs": [],
   "source": [
    "train_es = functools.partial(\n",
    "    es.train,\n",
    "    num_timesteps=1_000_000,\n",
    "    num_evals=10,\n",
    "    episode_length=EPISODE_LENGTH,\n",
    "    normalize_observations=True,\n",
    "    seed=1,\n",
    ")"
   ]
  },
  {
   "cell_type": "code",
   "execution_count": null,
   "metadata": {},
   "outputs": [],
   "source": [
    "train_fn = train_ppo"
   ]
  },
  {
   "cell_type": "code",
   "execution_count": null,
   "metadata": {},
   "outputs": [],
   "source": [
    "env = HoverV1()\n",
    "reset = jax.jit(env.reset)\n",
    "step = jax.jit(env.step)"
   ]
  },
  {
   "cell_type": "code",
   "execution_count": null,
   "metadata": {},
   "outputs": [],
   "source": [
    "xdata, ydata = [], []\n",
    "\n",
    "def progress(num_steps, metrics):\n",
    "  xdata.append(num_steps)\n",
    "  ydata.append(metrics['eval/episode_reward'])\n",
    "  clear_output(wait=True)\n",
    "  plt.xlabel('# environment steps')\n",
    "  plt.ylabel('reward per episode')\n",
    "  plt.plot(xdata, ydata)\n",
    "  plt.show()\n",
    "\n",
    "make_inference_fn, params, metrics = train_fn(environment=env, progress_fn=progress)"
   ]
  },
  {
   "cell_type": "code",
   "execution_count": null,
   "metadata": {},
   "outputs": [],
   "source": [
    "model.save_params('trained_params', params)"
   ]
  },
  {
   "cell_type": "code",
   "execution_count": null,
   "metadata": {},
   "outputs": [],
   "source": [
    "inference_fn = jax.jit(make_inference_fn(params))"
   ]
  },
  {
   "cell_type": "code",
   "execution_count": null,
   "metadata": {},
   "outputs": [],
   "source": [
    "rollout = []\n",
    "rng = jax.random.PRNGKey(seed=42)\n",
    "state = reset(rng=rng)\n",
    "for _ in tqdm(range(EPISODE_LENGTH)):\n",
    "  rollout.append(state.pipeline_state)\n",
    "  act_rng, rng = jax.random.split(rng)\n",
    "  act, _ = inference_fn(state.obs, act_rng)\n",
    "  state = step(state, act)\n",
    "\n",
    "doc = html.render(env.sys.replace(dt=env.dt), rollout)\n",
    "with open('trained.html', 'w') as f:\n",
    "  f.write(doc)\n",
    "HTML(doc)"
   ]
  }
 ],
 "metadata": {
  "kernelspec": {
   "display_name": "rl-racer",
   "language": "python",
   "name": "python3"
  },
  "language_info": {
   "codemirror_mode": {
    "name": "ipython",
    "version": 3
   },
   "file_extension": ".py",
   "mimetype": "text/x-python",
   "name": "python",
   "nbconvert_exporter": "python",
   "pygments_lexer": "ipython3",
   "version": "3.10.11"
  },
  "orig_nbformat": 4
 },
 "nbformat": 4,
 "nbformat_minor": 2
}
